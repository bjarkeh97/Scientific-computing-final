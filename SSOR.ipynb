{
 "cells": [
  {
   "cell_type": "code",
   "execution_count": 3,
   "metadata": {},
   "outputs": [],
   "source": [
    "#Gauss-Seidel method\n",
    "#Works for SPD or strictly diagonally dominant matrices\n",
    "\n",
    "import numpy as np\n",
    "\n",
    "def GauSeiIT(A,u,f):\n",
    "    N = np.size(u) \n",
    "    u[0] = (f[0] - np.dot(A[0,1:],u[1:]))/A[0,0] #Do first and last steps manually \n",
    "    for i in range(1,N-1): #range(a,b) = a,a+1,...,b-1\n",
    "        # u[a:b] = [ u[a] , ... , u[b-1] ]\n",
    "        u[i] = (f[i]-np.dot(A[i,:i],u[:i])-np.dot(A[i,i+1:],u[i+1:]))/A[i,i] #algorithm\n",
    "    u[-1] = (f[-1]-np.dot(A[-1,:-1],u[:-1]))/A[-1,-1] #last step\n",
    "    return u\n",
    "\n",
    "def GauSei(A,u,f,n): #Do n steps of Gauss-Seidel\n",
    "    u0 = u\n",
    "    for i in range(n):\n",
    "        #print(u0)\n",
    "        u0 = GauSeiIT(A,u0,f)\n",
    "    return u0\n"
   ]
  },
  {
   "cell_type": "code",
   "execution_count": 4,
   "metadata": {},
   "outputs": [],
   "source": [
    "#SOR method\n",
    "\n",
    "import numpy as np\n",
    "\n",
    "def SORit(A,u,w,f):\n",
    "    N = np.size(u)\n",
    "    s0 = u[0]\n",
    "    u[0] = (f[0] - np.dot(A[0,1:],u[1:]))/A[0,0]  #First step manually\n",
    "    u[0] = (1-w)*s0+w*u[0]\n",
    "    for i in range(1,N-1): #Do N-2 steps automatically following algorithm\n",
    "        s = u[i]\n",
    "        u[i] = (f[i]-np.dot(A[i,:i],u[:i])-np.dot(A[i,i+1:],u[i+1:]))/A[i,i]\n",
    "        u[i] = (1-w)*s+w*u[i]\n",
    "    sN = u[-1] #Do last step manually\n",
    "    u[-1] = (f[-1]-np.dot(A[-1,:-1],u[:-1]))/A[-1,-1]\n",
    "    u[-1] = (1-w)*sN+w*u[-1]\n",
    "    return u\n",
    "\n",
    "def SOR(A,u,w,f,N):\n",
    "    u0 = u\n",
    "    for i in range(N):\n",
    "        u0 = SORit(A,u0,w,f)\n",
    "    return u0"
   ]
  },
  {
   "cell_type": "code",
   "execution_count": 5,
   "metadata": {},
   "outputs": [],
   "source": [
    "#SSOR\n",
    "#Same method but with a forward and backwards SOR\n",
    "\n",
    "import numpy as np\n",
    "\n",
    "def SORit(A,u,w,f):\n",
    "    N = np.size(u)\n",
    "    s0 = u[0]\n",
    "    u[0] = (f[0] - np.dot(A[0,1:],u[1:]))/A[0,0]  #First step manually\n",
    "    u[0] = (1-w)*s0+w*u[0]\n",
    "    for i in range(1,N-1): #Do N-2 steps automatically following algorithm\n",
    "        s = u[i]\n",
    "        u[i] = (f[i]-np.dot(A[i,:i],u[:i])-np.dot(A[i,i+1:],u[i+1:]))/A[i,i]\n",
    "        u[i] = (1-w)*s+w*u[i]\n",
    "    sN = u[-1] #Do last step manually\n",
    "    u[-1] = (f[-1]-np.dot(A[-1,:-1],u[:-1]))/A[-1,-1]\n",
    "    u[-1] = (1-w)*sN+w*u[-1]\n",
    "    return u\n",
    "\n",
    "def SORBWit(A,u,w,f): \n",
    "    N = np.size(u)\n",
    "    sN = u[-1] #Do last step manually\n",
    "    u[-1] = (f[-1]-np.dot(A[-1,:-1],u[:-1]))/A[-1,-1]\n",
    "    u[-1] = (1-w)*sN+w*u[-1]\n",
    "    for i in reversed(range(1,N-1)): #Do N-2 steps automatically following algorithm but reversed\n",
    "        s = u[i]\n",
    "        u[i] = (f[i]-np.dot(A[i,:i],u[:i])-np.dot(A[i,i+1:],u[i+1:]))/A[i,i]\n",
    "        u[i] = (1-w)*s+w*u[i]\n",
    "    s0 = u[0]\n",
    "    u[0] = (f[0] - np.dot(A[0,1:],u[1:]))/A[0,0]  #First step manually\n",
    "    u[0] = (1-w)*s0+w*u[0]\n",
    "    return u\n",
    "\n",
    "#SSOR that runs N iterations\n",
    "def SSOR(A,u,w,f,N):\n",
    "    u0 = u\n",
    "    for i in range(N):\n",
    "        u0 = SORit(A,u0,w,f)\n",
    "        u0 = SORBWit(A,u0,w,f)\n",
    "    return u0\n",
    "\n",
    "#Define SSOR with stopping criteria on recidual vector / source vector (r/f)\n",
    "def SSORsc(A,u0,w,f,sc,save_residual_lengths):\n",
    "    u = u0\n",
    "    r = np.matmul(A,u) - f\n",
    "    err = np.linalg.norm(r,2) / np.linalg.norm(f,2)\n",
    "    it = 0  #To count number of iterations\n",
    "    residuals = [np.linalg.norm(r,2)]\n",
    "    while err > sc:\n",
    "        it = it+1\n",
    "        u = SORit(A,u,w,f)\n",
    "        u = SORBWit(A,u,w,f)\n",
    "        r = np.dot(A,u) - f\n",
    "        if save_residual_lengths == True:\n",
    "            residuals.append(np.linalg.norm(r,2))\n",
    "        err = np.linalg.norm(r,2) / np.linalg.norm(f,2)\n",
    "        if err > 100:\n",
    "            print(\"breaking\")\n",
    "            break\n",
    "    print(\"number of iterations :\", it)\n",
    "    return u , np.array(residuals)\n"
   ]
  },
  {
   "cell_type": "code",
   "execution_count": 6,
   "metadata": {},
   "outputs": [
    {
     "name": "stdout",
     "output_type": "stream",
     "text": [
      "solution:  [0.26360318 0.01394181 0.98459654 0.48690535 0.53944171]\n",
      "GS:  [0.26360318 0.01394181 0.98459654 0.48690535 0.53944171]\n",
      "SOR:  [0.26360312 0.01394186 0.98459652 0.48690538 0.53944168]\n",
      "SSOR:  [0.26360318 0.01394181 0.98459654 0.48690535 0.53944171]\n",
      "numpy:  [0.26360318 0.01394181 0.98459654 0.48690535 0.53944171]\n"
     ]
    }
   ],
   "source": [
    "#For testing methods on SPD matrix\n",
    "#Create random matrix and mupltiply with transpose to have SPD matrix:\n",
    "\n",
    "msize = 5\n",
    "M = np.random.rand(msize,msize)\n",
    "A = np.dot(M,M.transpose()) + np.eye(msize)*msize #diagonally dominant to make it positive definite\n",
    "#print(A)\n",
    "usol = np.random.rand(msize)\n",
    "print(\"solution: \",usol)\n",
    "f = np.matmul(A,usol)\n",
    "\n",
    "ugs = GauSei(A,np.zeros(msize),f,500)\n",
    "usor = SOR(A,np.zeros(msize),0.5,f,30)\n",
    "ussor = SSOR(A,np.zeros(msize),0.5,f,500)\n",
    "solution = np.linalg.solve(A,f)\n",
    "\n",
    "print(\"GS: \", ugs)\n",
    "print(\"SOR: \", usor)\n",
    "print(\"SSOR: \", ussor)\n",
    "print(\"numpy: \", solution)\n"
   ]
  },
  {
   "cell_type": "code",
   "execution_count": 7,
   "metadata": {},
   "outputs": [
    {
     "name": "stdout",
     "output_type": "stream",
     "text": [
      "GS:  [-0.06097560975609756, 0.9939024390243902]\n",
      "SOR:  [-0.06097560976345765, 0.9939024390257305]\n",
      "SSOR:  [-0.06097560975609756, 0.9939024390243902]\n"
     ]
    }
   ],
   "source": [
    "M = np.array([[16,4],[-1,10]])\n",
    "b = np.array([3,10])\n",
    "ugs = GauSei(M,[0,0],b,38)\n",
    "usor = SOR(M,[0,0],0.5,b,38)\n",
    "ussor = SSOR(M,[0,0],0.5,b,50)\n",
    "\n",
    "print(\"GS: \", ugs)\n",
    "print(\"SOR: \", usor)\n",
    "print(\"SSOR: \", ussor)\n"
   ]
  },
  {
   "cell_type": "code",
   "execution_count": 8,
   "metadata": {},
   "outputs": [
    {
     "name": "stdout",
     "output_type": "stream",
     "text": [
      "GS:  [-1.30816762e+25 -3.46513578e+25  7.11469291e+25  1.02222036e+26]\n",
      "SOR:  [-0.31858407 -1.59292035  0.05309735 -1.0619469 ]\n",
      "SSOR:  [2.42657201e+14 5.61681756e+14 3.24744965e+14 1.60969796e+14]\n",
      "numpy:  [-0.31858407 -1.59292035  0.05309735 -1.0619469 ]\n",
      "test f:  [-1.53952274e+15  1.07519499e+15  6.03217607e+15 -1.22570857e+15]\n"
     ]
    }
   ],
   "source": [
    "M = np.array([[4,-1,-6,0],[-5,-4,10,8],[0,9,4,-2],[1,0,-7,5]])\n",
    "f = np.array([0,0,-12,-6])\n",
    "\n",
    "ugs = GauSei(M,np.zeros(4),f,30)\n",
    "usor = SOR(M,np.zeros(4),0.5,f,50)\n",
    "ussor = SSOR(M,np.zeros(4),0.5,f,30)\n",
    "solution = np.linalg.solve(M,f)\n",
    "\n",
    "print(\"GS: \", ugs)\n",
    "print(\"SOR: \", usor)\n",
    "print(\"SSOR: \", ussor)\n",
    "print(\"numpy: \", solution)\n",
    "\n",
    "print(\"test f: \", np.dot(M,ussor))"
   ]
  },
  {
   "cell_type": "code",
   "execution_count": 9,
   "metadata": {},
   "outputs": [
    {
     "name": "stdout",
     "output_type": "stream",
     "text": [
      "number of iterations : 71\n",
      "err = 9.48543960468663e-10\n",
      "infty norm distance between sols =  5.461326946232248e-10\n"
     ]
    },
    {
     "data": {
      "text/plain": [
       "Text(0.5, 1.0, 'A single plot')"
      ]
     },
     "execution_count": 9,
     "metadata": {},
     "output_type": "execute_result"
    },
    {
     "data": {
      "image/png": "[encoded data removed]",
      "text/plain": [
       "<Figure size 432x288 with 1 Axes>"
      ]
     },
     "metadata": {
      "needs_background": "light"
     },
     "output_type": "display_data"
    }
   ],
   "source": [
    "#Test stopping criterion\n",
    "\n",
    "msize = 10\n",
    "M = np.random.rand(msize,msize)\n",
    "A = np.dot(M,M.transpose()) + np.eye(msize)*msize #diagonally dominant to make it positive definite\n",
    "#print(A)\n",
    "usol = np.random.rand(msize)\n",
    "for i in range(msize-4):\n",
    "    usol[i]=0\n",
    "#print(\"Exact solution: \",usol)\n",
    "f = np.dot(A,usol)\n",
    "\n",
    "ussor_sc , res = SSORsc(A,np.zeros(msize),1.5,f,10E-10,True)\n",
    "#print(\"SSOR solution: \",ussor_sc)\n",
    "\n",
    "r = np.dot(A,ussor_sc)-f\n",
    "err = np.linalg.norm(r,2) / np.linalg.norm(f,2)\n",
    "\n",
    "print(\"err =\" , err)\n",
    "\n",
    "print(\"infty norm distance between sols = \", np.linalg.norm(usol-ussor_sc,np.Inf))\n",
    "\n",
    "from matplotlib import pyplot as plt\n",
    "iterations = np.size(res)-1\n",
    "its = np.linspace(1,iterations,iterations)\n",
    "\n",
    "resdif = res[1:]\n",
    "for i in range(iterations):\n",
    "    resdif[i] = res[i+1]/res[i]\n",
    "\n",
    "fig, ax = plt.subplots()\n",
    "ax.plot(its,resdif)\n",
    "ax.set_title('A single plot')"
   ]
  },
  {
   "cell_type": "markdown",
   "metadata": {},
   "source": []
  },
  {
   "cell_type": "code",
   "execution_count": 13,
   "metadata": {},
   "outputs": [],
   "source": [
    "#SSOR\n",
    "#Same method but with a forward and backwards SOR\n",
    "\n",
    "import numpy as np\n",
    "import scipy.sparse as sp\n",
    "import scipy.sparse.linalg as LA\n",
    "\n",
    "def spSORit(A,u,w,f):\n",
    "    N = np.shape(u)[0]\n",
    "    s0 = u[0]\n",
    "    u[0] = ( f[0] - A[0,1:].dot(u[1:]) ) /A[0,0]  #First step manually\n",
    "    u[0] = (1-w)*s0+w*u[0]\n",
    "    for i in range(1,N-1): #Do N-2 steps automatically following algorithm\n",
    "        s = u[i]\n",
    "        u[i] = (f[i]-A[i,:i].dot(u[:i])-A[i,i+1:].dot(u[i+1:]))/A[i,i]\n",
    "        u[i] = (1-w)*s+w*u[i]\n",
    "    sN = u[-1] #Do last step manually\n",
    "    u[-1] = (f[-1]-A[-1,:-1].dot(u[:-1]))/A[-1,-1]\n",
    "    u[-1] = (1-w)*sN+w*u[-1]\n",
    "    return u\n",
    "\n",
    "def spSORBWit(A,u,w,f): \n",
    "    N = np.shape(u)[0]\n",
    "    sN = u[-1] #Do last step manually\n",
    "    u[-1] = (f[-1]-A[-1,:-1].dot(u[:-1]))/A[-1,-1]\n",
    "    u[-1] = (1-w)*sN+w*u[-1]\n",
    "    for i in reversed(range(1,N-1)): #Do N-2 steps automatically following algorithm but reversed\n",
    "        s = u[i]\n",
    "        u[i] = (f[i]-A[i,:i].dot(u[:i])-A[i,i+1:].dot(u[i+1:]))/A[i,i]\n",
    "        u[i] = (1-w)*s+w*u[i]\n",
    "    s0 = u[0]\n",
    "    u[0] = (f[0] - A[0,1:].dot(u[1:]))/A[0,0]  #First step manually\n",
    "    u[0] = (1-w)*s0+w*u[0]\n",
    "    return u\n",
    "\n",
    "#SSOR that runs N iterations\n",
    "def spSSOR(A,u,w,f,N):\n",
    "    u0 = u\n",
    "    for i in range(N):\n",
    "        u0 = SORit(A,u0,w,f)\n",
    "        u0 = SORBWit(A,u0,w,f)\n",
    "    return u0\n",
    "\n",
    "#Define SSOR with stopping criteria on recidual vector / source vector (r/f)\n",
    "\n",
    "def spSSORsc(A,u0,w,f,Stopping_criteria):  #A is csr_matrix while u0, f are dense np.array\n",
    "    u = u0  #otherwise everything should be sparse\n",
    "    r = A.dot(u) - f\n",
    "    err = np.linalg.norm(r,2) / np.linalg.norm(f,2)\n",
    "    it = 0  #To count number of iterations\n",
    "    reduces_residuals = [err]\n",
    "    while err > Stopping_criteria:\n",
    "        it = it+1\n",
    "        u = spSORit(A,u,w,f)\n",
    "        u = spSORBWit(A,u,w,f)\n",
    "        f_it = A.dot(u)\n",
    "        r = f_it - f\n",
    "        err = np.linalg.norm(r,2) / np.linalg.norm(f,2)\n",
    "        reduces_residuals.append(err)\n",
    "        #if it > 2000:\n",
    "        #    print(\"Over\", it ,\"iterations. err is: \",err)\n",
    "    print(\"number of iterations :\", it)\n",
    "    return u , np.array(reduces_residuals)\n",
    "\n"
   ]
  },
  {
   "cell_type": "code",
   "execution_count": 17,
   "metadata": {},
   "outputs": [
    {
     "name": "stdout",
     "output_type": "stream",
     "text": [
      "[3. 2. 2. 2. 3.]\n",
      "[[ 4. -1.  0.  0.  0.]\n",
      " [-1.  4. -1.  0.  0.]\n",
      " [ 0. -1.  4. -1.  0.]\n",
      " [ 0.  0. -1.  4. -1.]\n",
      " [ 0.  0.  0. -1.  4.]]\n",
      "norm f: 5.477225575051661\n",
      "number of iterations : 21\n",
      "[1. 1. 1. 1. 1.]\n"
     ]
    }
   ],
   "source": [
    "N = 5\n",
    "A = sp.csr_matrix(sp.diags([-1, 4, -1], [-1, 0, 1], shape=(N, N)))\n",
    "u_ex = np.ones(N)\n",
    "f = A.dot(u_ex)\n",
    "print(f)\n",
    "u0 = np.zeros(N)\n",
    "\n",
    "print(A.toarray())\n",
    "print(\"norm f:\",np.linalg.norm(f,2))\n",
    "u,res = spSSORsc(A,u0,1.5,f,10E-10)\n",
    "\n",
    "\n",
    "print(u)"
   ]
  },
  {
   "cell_type": "code",
   "execution_count": null,
   "metadata": {},
   "outputs": [],
   "source": []
  }
 ],
 "metadata": {
  "kernelspec": {
   "display_name": "Python 3",
   "language": "python",
   "name": "python3"
  },
  "language_info": {
   "codemirror_mode": {
    "name": "ipython",
    "version": 3
   },
   "file_extension": ".py",
   "mimetype": "text/x-python",
   "name": "python",
   "nbconvert_exporter": "python",
   "pygments_lexer": "ipython3",
   "version": "3.7.6"
  }
 },
 "nbformat": 4,
 "nbformat_minor": 4
}
